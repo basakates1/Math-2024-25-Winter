{
 "cells": [
  {
   "cell_type": "markdown",
   "metadata": {},
   "source": [
    "# Triangular Matrices and determinant calculation"
   ]
  },
  {
   "cell_type": "code",
   "execution_count": 1,
   "metadata": {},
   "outputs": [
    {
     "data": {
      "text/markdown": [
       "**Initial Matrix:**"
      ],
      "text/plain": [
       "<IPython.core.display.Markdown object>"
      ]
     },
     "metadata": {},
     "output_type": "display_data"
    },
    {
     "data": {
      "text/latex": [
       "$\\displaystyle \\left[\\begin{matrix}1 & 2 & 3\\\\2 & 5 & 3\\\\3 & 2 & 1\\end{matrix}\\right]$"
      ],
      "text/plain": [
       "Matrix([\n",
       "[1, 2, 3],\n",
       "[2, 5, 3],\n",
       "[3, 2, 1]])"
      ]
     },
     "metadata": {},
     "output_type": "display_data"
    }
   ],
   "source": [
    "import sympy as sp\n",
    "from sympy import Matrix, symbols, Rational\n",
    "from IPython.display import display, Markdown\n",
    "\n",
    "class SymbolicMatrix:\n",
    "    def __init__(self, matrix):\n",
    "        self.matrix = Matrix(matrix).applyfunc(Rational)\n",
    "        self.operations = []\n",
    "        display(Markdown(\"**Initial Matrix:**\"))\n",
    "        display(self.matrix)  # Display the matrix upon initialization\n",
    "\n",
    "    def __repr__(self):\n",
    "        return repr(self.matrix)  # Use Matrix's repr\n",
    "\n",
    "    def __str__(self):\n",
    "        return str(self.matrix)  # Use Matrix's str\n",
    "\n",
    "    def _repr_latex_(self):\n",
    "        return self.matrix._repr_latex_()  # Delegate LaTeX display\n",
    "\n",
    "    def _validate_row_number(self, row):\n",
    "        if not isinstance(row, int):\n",
    "            raise TypeError(\"Row number must be an integer.\")\n",
    "        if row < 1 or row > self.matrix.rows:\n",
    "            raise IndexError(f\"Row number must be in the range from 1 to {self.matrix.rows}.\")\n",
    "        return row - 1\n",
    "\n",
    "    def _validate_col_number(self, col):\n",
    "        if not isinstance(col, int):\n",
    "            raise TypeError(\"Column number must be an integer.\")\n",
    "        if col < 1 or col > self.matrix.cols:\n",
    "            raise IndexError(f\"Column number must be in the range from 1 to {self.matrix.cols}.\")\n",
    "        return col - 1\n",
    "\n",
    "    # Row operations\n",
    "    def add_row(self, target_row, source_row, coefficient):\n",
    "        target_idx = self._validate_row_number(target_row)\n",
    "        source_idx = self._validate_row_number(source_row)\n",
    "        coefficient = Rational(coefficient)\n",
    "\n",
    "        self.matrix.row_op(target_idx, lambda v, j: v + coefficient * self.matrix[source_idx, j])\n",
    "        operation_str = f\"r{target_row} = r{target_row} + {coefficient}*r{source_row}\"\n",
    "        self.operations.append(operation_str)\n",
    "        display(Markdown(f\"**Operation:** {operation_str}\"))\n",
    "        display(self.matrix)\n",
    "\n",
    "    def multiply_row(self, row, coefficient):\n",
    "        row_idx = self._validate_row_number(row)\n",
    "        coefficient = Rational(coefficient)\n",
    "        self.matrix.row_op(row_idx, lambda v, _: coefficient * v)\n",
    "        operation_str = f\"r{row} = {coefficient}*r{row}\"\n",
    "        self.operations.append(operation_str)\n",
    "        display(Markdown(f\"**Operation:** {operation_str}\"))\n",
    "        display(self.matrix)\n",
    "\n",
    "    def swap_rows(self, row1, row2):\n",
    "        row1_idx = self._validate_row_number(row1)\n",
    "        row2_idx = self._validate_row_number(row2)\n",
    "        self.matrix.row_swap(row1_idx, row2_idx)\n",
    "        operation_str = f\"Swap r{row1} <-> r{row2}\"\n",
    "        self.operations.append(operation_str)\n",
    "        display(Markdown(f\"**Operation:** {operation_str}\"))\n",
    "        display(self.matrix)\n",
    "\n",
    "    # Column operations\n",
    "    def add_col(self, target_col, source_col, coefficient):\n",
    "        target_idx = self._validate_col_number(target_col)\n",
    "        source_idx = self._validate_col_number(source_col)\n",
    "        self.matrix.col_op(target_idx, lambda v, i: v + coefficient * self.matrix[i, source_idx])\n",
    "        operation_str = f\"c{target_col} = c{target_col} + {coefficient}*c{source_col}\"\n",
    "        self.operations.append(operation_str)\n",
    "        display(Markdown(f\"**Operation:** {operation_str}\"))\n",
    "        display(self.matrix)\n",
    "\n",
    "    def multiply_col(self, col, coefficient):\n",
    "        col_idx = self._validate_col_number(col)\n",
    "        self.matrix.col_op(col_idx, lambda v, _: coefficient * v)\n",
    "        operation_str = f\"c{col} = {coefficient}*c{col}\"\n",
    "        self.operations.append(operation_str)\n",
    "        display(Markdown(f\"**Operation:** {operation_str}\"))\n",
    "        display(self.matrix)\n",
    "\n",
    "    def swap_cols(self, col1, col2):\n",
    "        col1_idx = self._validate_col_number(col1)\n",
    "        col2_idx = self._validate_col_number(col2)\n",
    "        self.matrix.col_swap(col1_idx, col2_idx)\n",
    "        operation_str = f\"Swap c{col1} <-> c{col2}\"\n",
    "        self.operations.append(operation_str)\n",
    "        display(Markdown(f\"**Operation:** {operation_str}\"))\n",
    "        display(self.matrix)\n",
    "\n",
    "    # Display the operations performed\n",
    "    def print_operations(self):\n",
    "        display(Markdown(\"**Performed Operations:**\"))\n",
    "        for op in self.operations:\n",
    "            print(op)\n",
    "\n",
    "# Example usage\n",
    "mat = [[1, 2, 3], [2, 5, 3], [3, 2, 1]]\n",
    "\n",
    "m = SymbolicMatrix(mat) # instance of SymbolicMatrix class\n",
    "\n",
    "# define the same matrix for computation check\n",
    "original_matrix = sp.Matrix(mat)"
   ]
  },
  {
   "cell_type": "code",
   "execution_count": 2,
   "metadata": {},
   "outputs": [
    {
     "data": {
      "text/markdown": [
       "**Operation:** r2 = r2 + -2*r1"
      ],
      "text/plain": [
       "<IPython.core.display.Markdown object>"
      ]
     },
     "metadata": {},
     "output_type": "display_data"
    },
    {
     "data": {
      "text/latex": [
       "$\\displaystyle \\left[\\begin{matrix}1 & 2 & 3\\\\0 & 1 & -3\\\\3 & 2 & 1\\end{matrix}\\right]$"
      ],
      "text/plain": [
       "Matrix([\n",
       "[1, 2,  3],\n",
       "[0, 1, -3],\n",
       "[3, 2,  1]])"
      ]
     },
     "metadata": {},
     "output_type": "display_data"
    }
   ],
   "source": [
    "m.add_row(2, 1, -2)"
   ]
  },
  {
   "cell_type": "code",
   "execution_count": 3,
   "metadata": {},
   "outputs": [
    {
     "data": {
      "text/markdown": [
       "**Operation:** r3 = r3 + -3*r1"
      ],
      "text/plain": [
       "<IPython.core.display.Markdown object>"
      ]
     },
     "metadata": {},
     "output_type": "display_data"
    },
    {
     "data": {
      "text/latex": [
       "$\\displaystyle \\left[\\begin{matrix}1 & 2 & 3\\\\0 & 1 & -3\\\\0 & -4 & -8\\end{matrix}\\right]$"
      ],
      "text/plain": [
       "Matrix([\n",
       "[1,  2,  3],\n",
       "[0,  1, -3],\n",
       "[0, -4, -8]])"
      ]
     },
     "metadata": {},
     "output_type": "display_data"
    }
   ],
   "source": [
    "m.add_row(3, 1, -3)"
   ]
  },
  {
   "cell_type": "code",
   "execution_count": 4,
   "metadata": {},
   "outputs": [
    {
     "data": {
      "text/markdown": [
       "**Operation:** r3 = r3 + 4*r2"
      ],
      "text/plain": [
       "<IPython.core.display.Markdown object>"
      ]
     },
     "metadata": {},
     "output_type": "display_data"
    },
    {
     "data": {
      "text/latex": [
       "$\\displaystyle \\left[\\begin{matrix}1 & 2 & 3\\\\0 & 1 & -3\\\\0 & 0 & -20\\end{matrix}\\right]$"
      ],
      "text/plain": [
       "Matrix([\n",
       "[1, 2,   3],\n",
       "[0, 1,  -3],\n",
       "[0, 0, -20]])"
      ]
     },
     "metadata": {},
     "output_type": "display_data"
    }
   ],
   "source": [
    "m.add_row(3, 2, 4)"
   ]
  },
  {
   "cell_type": "markdown",
   "metadata": {},
   "source": [
    "The resulting matrix is an upper triangular matrix.\n",
    "\n",
    "### Determinant of a Triangular Matrix\n",
    "\n",
    "For a triangular matrix, the determinant is equal to the product of the elements on its diagonal."
   ]
  },
  {
   "cell_type": "code",
   "execution_count": 5,
   "metadata": {},
   "outputs": [
    {
     "data": {
      "text/plain": [
       "True"
      ]
     },
     "execution_count": 5,
     "metadata": {},
     "output_type": "execute_result"
    }
   ],
   "source": [
    "# The determinant of a triangular matrix is the product of the diagonal elements!\n",
    "original_matrix.det() == 1 * 1 * (-20)"
   ]
  },
  {
   "cell_type": "markdown",
   "metadata": {},
   "source": [
    "---\n",
    "\n",
    "## Exercises for Students\n",
    "\n",
    "Perform row and column operations to reduce the following matrices to an upper triangular form and calculate their determinants by taking the product of the diagonal elements.\n",
    "\n",
    "1. \n",
    "$$\n",
    "A = \\begin{bmatrix}\n",
    "12 & 3 \\\\\n",
    "-18 & -4\n",
    "\\end{bmatrix}\n",
    "$$\n",
    "\n",
    "2.\n",
    "\n",
    "$$\n",
    "B = \\begin{bmatrix} \n",
    "1 & 2 & 3 \\\\\n",
    "4 & 5 & 6 \\\\\n",
    "7 & 8 & 9 \n",
    "\\end{bmatrix}\n",
    "$$"
   ]
  },
  {
   "cell_type": "markdown",
   "metadata": {},
   "source": []
  },
  {
   "cell_type": "markdown",
   "metadata": {},
   "source": [
    "<h1><b> SOLUTION </b></h1>\n",
    "\n",
    "<hr/>\n",
    "\n",
    "## Determinants using Row Operations\n",
    "\n",
    "**1. Matrix A**\n",
    "\n",
    "$$\n",
    "A = \\begin{pmatrix}\n",
    "12 & 3 \\\\\n",
    "-18 & -4\n",
    "\\end{pmatrix}.\n",
    "$$\n",
    "\n",
    "**Step 1: Use Row Operations to Get Upper Triangular Form**\n",
    "\n",
    "We want a zero below the main diagonal in the position (2,1). Currently, that entry is -18. We can eliminate it by adding a suitable multiple of Row 1 to Row 2.\n",
    "\n",
    "Let $R_2 \\to R_2 + \\frac{3}{2}R_1$.\n",
    "\n",
    "Why $\\frac{3}{2}$? Because $-18 + \\frac{3}{2} \\times 12 = -18 + 18 = 0$.\n",
    "\n",
    "Performing this on each entry in Row 2:\n",
    "\n",
    "First entry of new $R_2$: $-18 \\;+\\;\\frac{3}{2}\\times 12 \\;=\\;-18 \\;+\\;18 \\;=\\; 0$.\n",
    "\n",
    "Second entry of new $R_2$: $-4 \\;+\\;\\frac{3}{2}\\times 3 \\;=\\;-4 \\;+\\;\\frac{9}{2} \\;=\\;-\\frac{8}{2} + \\frac{9}{2} \\;=\\;\\frac{1}{2}$.\n",
    "\n",
    "Hence, after this row operation,\n",
    "\n",
    "$$\n",
    "\\begin{pmatrix}\n",
    "12 & 3 \\\\\n",
    "-18 & -4\n",
    "\\end{pmatrix}\n",
    "\\;\\xrightarrow{R_2 \\to R_2+\\frac{3}{2}R_1}\\;\n",
    "\\begin{pmatrix}\n",
    "12 & 3 \\\\\n",
    "0 & \\frac{1}{2}\n",
    "\\end{pmatrix}.\n",
    "$$\n",
    "\n",
    "This is now upper triangular.\n",
    "\n",
    "**Step 2: Determinant from Diagonal**\n",
    "\n",
    "Since we only added a multiple of one row to another (an operation that does not change the determinant), the determinant of $A$ is just the product of the diagonal of the resulting matrix:\n",
    "\n",
    "$$\n",
    "\\det(A) \\;=\\; 12 \\times \\frac{1}{2} \\;=\\; 6.\n",
    "$$\n",
    "\n",
    "(You can also verify by the direct 2×2 determinant formula:\n",
    "$\\det(A) = 12 \\cdot (-4)\\;-\\;3 \\cdot (-18) = -48 + 54 = 6$.)\n",
    "\n",
    "**2. Matrix B**\n",
    "\n",
    "$$\n",
    "B = \\begin{pmatrix}\n",
    "1 & 2 & 3 \\\\\n",
    "4 & 5 & 6 \\\\\n",
    "7 & 8 & 9\n",
    "\\end{pmatrix}.\n",
    "$$\n",
    "\n",
    "**Step 1: Eliminate Below the First Pivot**\n",
    "\n",
    "We want zeros below the (1,1) entry (which is 1) in the first column:\n",
    "\n",
    "Eliminate entry (2,1)=4 by using $R_2 \\to R_2 - 4R_1$:\n",
    "\n",
    "$R_2 - 4R_1 = \\begin{pmatrix} 4 & 5 & 6 \\end{pmatrix} - 4 \\times \\begin{pmatrix} 1 & 2 & 3 \\end{pmatrix} = \\begin{pmatrix} 4-4 & 5-8 & 6-12 \\end{pmatrix} = \\begin{pmatrix} 0 & -3 & -6 \\end{pmatrix}$.\n",
    "\n",
    "Eliminate entry (3,1)=7 by using $R_3 \\to R_3 - 7R_1$:\n",
    "\n",
    "$R_3 - 7R_1 = \\begin{pmatrix} 7 & 8 & 9 \\end{pmatrix} - 7 \\times \\begin{pmatrix} 1 & 2 & 3 \\end{pmatrix} = \\begin{pmatrix} 7-7 & 8-14 & 9-21 \\end{pmatrix} = \\begin{pmatrix} 0 & -6 & -12 \\end{pmatrix}$.\n",
    "\n",
    "So now $B$ becomes:\n",
    "\n",
    "$$\n",
    "\\begin{pmatrix}\n",
    "1 & 2 & 3 \\\\\n",
    "0 & -3 & -6 \\\\\n",
    "0 & -6 & -12\n",
    "\\end{pmatrix}.\n",
    "$$\n",
    "\n",
    "**Step 2: Eliminate Below the Second Pivot**\n",
    "\n",
    "Next, focus on the second pivot, the entry (2,2)=-3. We want a zero in position (3,2). Perform $R_3 \\to R_3 - 2R_2$:\n",
    "\n",
    "$R_3 - 2R_2 = \\begin{pmatrix} 0 & -6 & -12 \\end{pmatrix} - 2 \\times \\begin{pmatrix} 0 & -3 & -6 \\end{pmatrix} = \\begin{pmatrix} 0 & -6 & -12 \\end{pmatrix} - \\begin{pmatrix} 0 & -6 & -12 \\end{pmatrix} = \\begin{pmatrix} 0 & 0 & 0 \\end{pmatrix}$.\n",
    "\n",
    "Thus $B$ is now in upper‐triangular form:\n",
    "\n",
    "$$\n",
    "\\begin{pmatrix}\n",
    "1 & 2 & 3 \\\\\n",
    "0 & -3 & -6 \\\\\n",
    "0 & 0 & 0\n",
    "\\end{pmatrix}.\n",
    "$$\n",
    "\n",
    "**Step 3: Determinant from Diagonal**\n",
    "\n",
    "The diagonal entries are 1, -3, 0. The product is\n",
    "\n",
    "$$\n",
    "\\det(B) \\;=\\; 1 \\;\\times\\;(-3)\\;\\times\\;0 \\;=\\; 0.\n",
    "$$\n",
    "\n",
    "Because one of the diagonal entries is zero, $\\det(B) = 0$. (In fact, $B$ is well-known to be singular because its rows are linearly dependent.)\n",
    "\n",
    "**Final Answers**\n",
    "\n",
    "$$\n",
    "\\det(A) = 6.\n",
    "$$\n",
    "\n",
    "$$\n",
    "\\det(B) = 0.\n",
    "$$"
   ]
  }
 ],
 "metadata": {
  "kernelspec": {
   "display_name": "Python 3",
   "language": "python",
   "name": "python3"
  },
  "language_info": {
   "codemirror_mode": {
    "name": "ipython",
    "version": 3
   },
   "file_extension": ".py",
   "mimetype": "text/x-python",
   "name": "python",
   "nbconvert_exporter": "python",
   "pygments_lexer": "ipython3",
   "version": "3.11.9"
  }
 },
 "nbformat": 4,
 "nbformat_minor": 4
}
