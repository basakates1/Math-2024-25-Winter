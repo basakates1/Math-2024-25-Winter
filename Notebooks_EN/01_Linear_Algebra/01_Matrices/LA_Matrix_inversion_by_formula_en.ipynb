{
 "cells": [
  {
   "cell_type": "markdown",
   "metadata": {},
   "source": [
    "# Matrix Inversion\n",
    "\n",
    "The inverse of a matrix $A$ is a matrix $A^{-1}$ such that $A \\cdot A^{-1} = A^{-1} \\cdot A = I$, where $I$ is the identity matrix.\n",
    "\n",
    "**Example 1:**"
   ]
  },
  {
   "cell_type": "code",
   "execution_count": 1,
   "metadata": {},
   "outputs": [
    {
     "data": {
      "text/latex": [
       "$\\displaystyle \\left[\\begin{matrix}2 & 1 & 2\\\\5 & 3 & 1\\\\1 & 1 & 5\\end{matrix}\\right]$"
      ],
      "text/plain": [
       "Matrix([\n",
       "[2, 1, 2],\n",
       "[5, 3, 1],\n",
       "[1, 1, 5]])"
      ]
     },
     "execution_count": 1,
     "metadata": {},
     "output_type": "execute_result"
    }
   ],
   "source": [
    "import sympy as sp # import sympy library\n",
    "k1 = sp.Matrix([[2, 1, 2], [5, 3, 1], [1, 1, 5]]) # create matrix k1\n",
    "k1"
   ]
  },
  {
   "cell_type": "code",
   "execution_count": 2,
   "metadata": {},
   "outputs": [
    {
     "data": {
      "text/latex": [
       "$\\displaystyle \\left[\\begin{matrix}\\frac{7}{4} & - \\frac{3}{8} & - \\frac{5}{8}\\\\-3 & 1 & 1\\\\\\frac{1}{4} & - \\frac{1}{8} & \\frac{1}{8}\\end{matrix}\\right]$"
      ],
      "text/plain": [
       "Matrix([\n",
       "[7/4, -3/8, -5/8],\n",
       "[ -3,    1,    1],\n",
       "[1/4, -1/8,  1/8]])"
      ]
     },
     "execution_count": 2,
     "metadata": {},
     "output_type": "execute_result"
    }
   ],
   "source": [
    "inverse_k1 = k1.inv() # calculate the inverse of matrix k1\n",
    "inverse_k1"
   ]
  },
  {
   "cell_type": "code",
   "execution_count": 3,
   "metadata": {},
   "outputs": [
    {
     "data": {
      "text/latex": [
       "$\\displaystyle \\left[\\begin{matrix}1 & 0 & 0\\\\0 & 1 & 0\\\\0 & 0 & 1\\end{matrix}\\right]$"
      ],
      "text/plain": [
       "Matrix([\n",
       "[1, 0, 0],\n",
       "[0, 1, 0],\n",
       "[0, 0, 1]])"
      ]
     },
     "execution_count": 3,
     "metadata": {},
     "output_type": "execute_result"
    }
   ],
   "source": [
    "k1 * inverse_k1 # verify if multiplying the matrix by its inverse yields the identity matrix"
   ]
  },
  {
   "cell_type": "markdown",
   "metadata": {},
   "source": [
    "**Example 2:**"
   ]
  },
  {
   "cell_type": "code",
   "execution_count": 4,
   "metadata": {},
   "outputs": [
    {
     "data": {
      "text/latex": [
       "$\\displaystyle \\left[\\begin{matrix}\\frac{e i - f h}{a e i - a f h - b d i + b f g + c d h - c e g} & \\frac{- b i + c h}{a e i - a f h - b d i + b f g + c d h - c e g} & \\frac{b f - c e}{a e i - a f h - b d i + b f g + c d h - c e g}\\\\\\frac{- d i + f g}{a e i - a f h - b d i + b f g + c d h - c e g} & \\frac{a i - c g}{a e i - a f h - b d i + b f g + c d h - c e g} & \\frac{- a f + c d}{a e i - a f h - b d i + b f g + c d h - c e g}\\\\\\frac{d h - e g}{a e i - a f h - b d i + b f g + c d h - c e g} & \\frac{- a h + b g}{a e i - a f h - b d i + b f g + c d h - c e g} & \\frac{a e - b d}{a e i - a f h - b d i + b f g + c d h - c e g}\\end{matrix}\\right]$"
      ],
      "text/plain": [
       "Matrix([\n",
       "[ (e*i - f*h)/(a*e*i - a*f*h - b*d*i + b*f*g + c*d*h - c*e*g), (-b*i + c*h)/(a*e*i - a*f*h - b*d*i + b*f*g + c*d*h - c*e*g),  (b*f - c*e)/(a*e*i - a*f*h - b*d*i + b*f*g + c*d*h - c*e*g)],\n",
       "[(-d*i + f*g)/(a*e*i - a*f*h - b*d*i + b*f*g + c*d*h - c*e*g),  (a*i - c*g)/(a*e*i - a*f*h - b*d*i + b*f*g + c*d*h - c*e*g), (-a*f + c*d)/(a*e*i - a*f*h - b*d*i + b*f*g + c*d*h - c*e*g)],\n",
       "[ (d*h - e*g)/(a*e*i - a*f*h - b*d*i + b*f*g + c*d*h - c*e*g), (-a*h + b*g)/(a*e*i - a*f*h - b*d*i + b*f*g + c*d*h - c*e*g),  (a*e - b*d)/(a*e*i - a*f*h - b*d*i + b*f*g + c*d*h - c*e*g)]])"
      ]
     },
     "execution_count": 4,
     "metadata": {},
     "output_type": "execute_result"
    }
   ],
   "source": [
    "import sympy as sp\n",
    "a, b, c, d, e, f, g, h, i = sp.symbols('a b c d e f g h i') # define variables a-i\n",
    "k = sp.Matrix([[a, b, c], [d, e, f], [g, h, i]]) # create matrix k\n",
    "inverse_k = k.inv()    \n",
    "inverse_k"
   ]
  },
  {
   "cell_type": "markdown",
   "metadata": {},
   "source": [
    "This complex form results from the formula that allows for the calculation of the elements of the inverse matrix. Before we proceed, let's define a few concepts.\n",
    "\n",
    "**Matrix Transposition** is an operation that swaps rows with columns. The transpose of a matrix $A$ is a matrix $A^T$ such that $A^T_{ij} = A_{ji}$."
   ]
  },
  {
   "cell_type": "code",
   "execution_count": 5,
   "metadata": {},
   "outputs": [
    {
     "data": {
      "text/latex": [
       "$\\displaystyle \\left[\\begin{matrix}a & b & c\\\\d & e & f\\\\g & h & i\\end{matrix}\\right]$"
      ],
      "text/plain": [
       "Matrix([\n",
       "[a, b, c],\n",
       "[d, e, f],\n",
       "[g, h, i]])"
      ]
     },
     "execution_count": 5,
     "metadata": {},
     "output_type": "execute_result"
    }
   ],
   "source": [
    "k"
   ]
  },
  {
   "cell_type": "code",
   "execution_count": 6,
   "metadata": {},
   "outputs": [
    {
     "data": {
      "text/latex": [
       "$\\displaystyle \\left[\\begin{matrix}a & d & g\\\\b & e & h\\\\c & f & i\\end{matrix}\\right]$"
      ],
      "text/plain": [
       "Matrix([\n",
       "[a, d, g],\n",
       "[b, e, h],\n",
       "[c, f, i]])"
      ]
     },
     "execution_count": 6,
     "metadata": {},
     "output_type": "execute_result"
    }
   ],
   "source": [
    "k.transpose() # transpose matrix k"
   ]
  },
  {
   "cell_type": "markdown",
   "metadata": {},
   "source": [
    "**Minor** of a matrix $A$ is the determinant of the matrix obtained by removing the $i$-th row and $j$-th column. We denote it by $M_{ij}$."
   ]
  },
  {
   "cell_type": "code",
   "execution_count": 7,
   "metadata": {},
   "outputs": [
    {
     "data": {
      "text/latex": [
       "$\\displaystyle \\left[\\begin{matrix}1 & 2 & 3\\\\4 & 5 & 6\\\\7 & 8 & 9\\end{matrix}\\right]$"
      ],
      "text/plain": [
       "Matrix([\n",
       "[1, 2, 3],\n",
       "[4, 5, 6],\n",
       "[7, 8, 9]])"
      ]
     },
     "execution_count": 7,
     "metadata": {},
     "output_type": "execute_result"
    }
   ],
   "source": [
    "# Minor of matrix $A$ is the determinant of the matrix obtained by removing the $i$-th row and $j$-th column. We denote it by $M_{ij}$.\n",
    "k2 = sp.Matrix([[1, 2, 3], [4, 5, 6], [7, 8, 9]])\n",
    "k2"
   ]
  },
  {
   "cell_type": "code",
   "execution_count": 8,
   "metadata": {},
   "outputs": [
    {
     "data": {
      "text/latex": [
       "$\\displaystyle \\left[\\begin{matrix}4 & 6\\\\7 & 9\\end{matrix}\\right]$"
      ],
      "text/plain": [
       "Matrix([\n",
       "[4, 6],\n",
       "[7, 9]])"
      ]
     },
     "execution_count": 8,
     "metadata": {},
     "output_type": "execute_result"
    }
   ],
   "source": [
    "M01 = k2.minor_submatrix(0, 1) # calculate minor M01\n",
    "M01"
   ]
  },
  {
   "cell_type": "code",
   "execution_count": 9,
   "metadata": {},
   "outputs": [
    {
     "data": {
      "text/latex": [
       "$\\displaystyle \\left[\\begin{matrix}1 & 2\\\\4 & 5\\end{matrix}\\right]$"
      ],
      "text/plain": [
       "Matrix([\n",
       "[1, 2],\n",
       "[4, 5]])"
      ]
     },
     "execution_count": 9,
     "metadata": {},
     "output_type": "execute_result"
    }
   ],
   "source": [
    "M22 = k2.minor_submatrix(2, 2) # calculate minor M22\n",
    "M22"
   ]
  },
  {
   "cell_type": "markdown",
   "metadata": {},
   "source": [
    "**Cofactor** of element $a_{ij} = (-1)^{i+j} \\, M_{ij}$, which is the minor multiplied by $(-1)^{i+j}$.\n",
    "\n",
    "**Rank of a Matrix** is the largest degree of a non-zero minor of the matrix. The rank of a matrix is equal to the number of linearly independent rows or columns in the matrix."
   ]
  },
  {
   "cell_type": "code",
   "execution_count": 10,
   "metadata": {},
   "outputs": [
    {
     "data": {
      "text/plain": [
       "2"
      ]
     },
     "execution_count": 10,
     "metadata": {},
     "output_type": "execute_result"
    }
   ],
   "source": [
    "k2.rank() # calculate the rank of matrix k2"
   ]
  },
  {
   "cell_type": "markdown",
   "metadata": {},
   "source": [
    "### Inverse of a 3x3 Matrix\n",
    "\n",
    "Using the transpose of the cofactor matrix (minors):\n",
    "\n",
    "$$K^{-1} =\n",
    "\\begin{bmatrix}\n",
    "a & b & c \\\\\n",
    "d & e & f \\\\\n",
    "g & h & i\n",
    "\\end{bmatrix}^{-1} \n",
    "= \\frac{1}{\\det(\\mathbf{K})} \n",
    "\\begin{bmatrix}\n",
    "A & B & C \\\\\n",
    "D & E & F \\\\\n",
    "G & H & I\n",
    "\\end{bmatrix}^T\n",
    "= \\frac{1}{\\det(\\mathbf{A})} \n",
    "\\begin{bmatrix}\n",
    "A & D & G \\\\\n",
    "B & E & H \\\\\n",
    "C & F & I\n",
    "\\end{bmatrix}\n",
    "$$\n",
    "\n",
    "If the determinant is non-zero, the matrix is invertible, and the elements of the intermediate matrix on the right-hand side of the above formula are determined by:\n",
    "\n",
    "$$\n",
    "\\begin{aligned}\n",
    "A &= \\text{det} \\left( \\begin{bmatrix} e & f \\\\ h & i \\end{bmatrix} \\right) & B &= -\\text{det} \\left( \\begin{bmatrix} d & f \\\\ g & i \\end{bmatrix} \\right) & C &= \\text{det} \\left( \\begin{bmatrix} d & e \\\\ g & h \\end{bmatrix} \\right) \\\\\n",
    "D &= -\\text{det} \\left( \\begin{bmatrix} b & c \\\\ h & i \\end{bmatrix} \\right) & E &= \\text{det} \\left( \\begin{bmatrix} a & c \\\\ g & i \\end{bmatrix} \\right) & F &= -\\text{det} \\left( \\begin{bmatrix} a & b \\\\ g & h \\end{bmatrix} \\right) \\\\\n",
    "G &= \\text{det} \\left( \\begin{bmatrix} b & c \\\\ e & f \\end{bmatrix} \\right) & H &= -\\text{det} \\left( \\begin{bmatrix} a & c \\\\ d & f \\end{bmatrix} \\right) & I &= \\text{det} \\left( \\begin{bmatrix} a & b \\\\ d & e \\end{bmatrix} \\right)\n",
    "\\end{aligned}\n",
    "$$\n",
    "\n",
    "These are the determinants of 2x2 matrices formed by removing the appropriate rows and columns and taking into account the sign $(-1)^{i+j}$.\n",
    "\n",
    "### Inverse of a 2x2 Matrix\n",
    "\n",
    "Similarly, for a 2x2 matrix, the inverse can be calculated using the cofactor matrix:\n",
    "\n",
    "$$\n",
    "\\mathbf{L}^{-1} = \n",
    "\\begin{bmatrix}\n",
    "a & b \\\\\n",
    "c & d\n",
    "\\end{bmatrix}^{-1} \n",
    "= \\frac{1}{\\det(\\mathbf{L})} \n",
    "\\begin{bmatrix}\n",
    "D & C \\\\\n",
    "B & A\n",
    "\\end{bmatrix}^T\n",
    "= \\frac{1}{\\det(\\mathbf{L})} \n",
    "\\begin{bmatrix}\n",
    "D & B \\\\\n",
    "C & A\n",
    "\\end{bmatrix}\n",
    "$$\n",
    "\n",
    "where $\\det(\\mathbf{L}) = ad - bc$\n",
    "\n",
    "If the determinant is non-zero, the matrix is invertible, and the elements of the intermediate matrix are given as:\n",
    "\n",
    "$$\n",
    "\\begin{aligned}\n",
    "A &= \\text{det} \\begin{bmatrix} d \\end{bmatrix} = d, & B &= -\\text{det} \\begin{bmatrix} b \\end{bmatrix} = -b, & C &= -\\text{det} \\begin{bmatrix} c \\end{bmatrix} = -c, & \n",
    "D &= \\text{det} \\begin{bmatrix} a \\end{bmatrix} = a.\n",
    "\\end{aligned}\n",
    "$$\n",
    "\n",
    "These elements are determined by calculating the determinants of 1x1 matrices formed by removing the appropriate rows and columns from the original 2x2 matrix and applying the corresponding signs $(-1)^{i+j}$."
   ]
  },
  {
   "cell_type": "markdown",
   "metadata": {},
   "source": [
    "---\n",
    "\n",
    "## Exercises for Students\n",
    "\n",
    "1. Find the inverse matrix for\n",
    "\n",
    "$$\n",
    "\\begin{bmatrix}\n",
    "2 & 0 & 1 \\\\\n",
    "0 & 1 & 0 \\\\\n",
    "1 & 2 & 0\n",
    "\\end{bmatrix}\n",
    "$$\n",
    "\n",
    "and verify if the result is correct.\n",
    "\n",
    "2. Using the `det()` command, determine the rank of the matrix below\n",
    "$$\n",
    "A = \n",
    "\\begin{bmatrix}\n",
    "4 & -3 & 7 \\\\\n",
    "-1 & 6 & 3 \\\\\n",
    "2 & 9 & 1\n",
    "\\end{bmatrix}\n",
    "$$"
   ]
  },
  {
   "cell_type": "markdown",
   "metadata": {},
   "source": [
    "<h1><b> SOLUTION </b></h1>\n",
    "\n",
    "<hr/>\n",
    "\n",
    "<h3><b>SOLUTION 1</b></h3>\n",
    "\n",
    "We want to find the inverse of the 3×3 matrix\n",
    "\n",
    "$A = \\begin{pmatrix}\n",
    "2 & 0 & 1 \\\\\n",
    "0 & 1 & 0 \\\\\n",
    "1 & 2 & 0\n",
    "\\end{pmatrix}.$\n",
    "\n",
    "Recall that the inverse $A^{-1}$ satisfies\n",
    "\n",
    "$A \\, A^{-1} = I,$\n",
    "\n",
    "where $I$ is the 3×3 identity matrix.\n",
    "\n",
    "1. Compute $\\det(A)$\n",
    "\n",
    "Using the cofactor expansion (along the first row, for instance):\n",
    "\n",
    "$\\det(A) = 2 \\cdot \\det\\begin{pmatrix} 1 & 0 \\\\ 2 & 0 \\end{pmatrix} - 0 \\cdot \\dots + 1 \\cdot \\det\\begin{pmatrix} 0 & 1 \\\\ 1 & 2 \\end{pmatrix}.$\n",
    "\n",
    "$\\det\\begin{pmatrix} 1 & 0 \\\\ 2 & 0 \\end{pmatrix} = 1\\cdot0 - 0\\cdot2 = 0.$\n",
    "\n",
    "Thus the first term $= 2 \\times 0 = 0.$\n",
    "\n",
    "The middle term is multiplied by 0, so it is 0.\n",
    "\n",
    "$\\det\\begin{pmatrix} 0 & 1 \\\\ 1 & 2 \\end{pmatrix} = 0\\cdot2 - 1\\cdot1 = -1.$\n",
    "\n",
    "Hence,\n",
    "\n",
    "$\\det(A) = 0 + 0 + 1 \\cdot (-1) = -1.$\n",
    "\n",
    "Since $\\det(A) = -1 \\neq 0$, the matrix $A$ is invertible.\n",
    "\n",
    "2. Find the adjugate $\\mathrm{adj}(A)$\n",
    "\n",
    "The formula for the inverse is:\n",
    "\n",
    "$A^{-1} = \\frac{1}{\\det(A)} \\,\\mathrm{adj}(A).$\n",
    "\n",
    "*2.1. Cofactor matrix*\n",
    "\n",
    "Minor $M_{1,1}$: remove row 1, col 1\n",
    "$\\begin{vmatrix} 1 & 0 \\\\ 2 & 0 \\end{vmatrix} = 1\\cdot 0 - 0\\cdot 2 = 0$\n",
    "$C_{1,1} = (+1)\\cdot 0 = 0.$\n",
    "\n",
    "Minor $M_{1,2}$: remove row 1, col 2\n",
    "$\\begin{vmatrix} 0 & 0 \\\\ 1 & 0 \\end{vmatrix} = 0\\cdot 0 - 0\\cdot 1 = 0$\n",
    "$C_{1,2} = (-1)\\cdot 0 = 0.$\n",
    "\n",
    "Minor $M_{1,3}$: remove row 1, col 3\n",
    "$\\begin{vmatrix} 0 & 1 \\\\ 1 & 2 \\end{vmatrix} = 0\\cdot 2 - 1\\cdot 1 = -1.$\n",
    "$C_{1,3} = (+1)\\cdot (-1) = -1.$\n",
    "\n",
    "Minor $M_{2,1}$: remove row 2, col 1\n",
    "$\\begin{vmatrix} 0 & 1 \\\\ 2 & 0 \\end{vmatrix} = 0\\cdot 0 - 1\\cdot 2 = -2.$\n",
    "$C_{2,1} = (-1)\\cdot (-2) = +2.$\n",
    "\n",
    "Minor $M_{2,2}$: remove row 2, col 2\n",
    "$\\begin{vmatrix} 2 & 1 \\\\ 1 & 0 \\end{vmatrix} = 2\\cdot 0 - 1\\cdot 1 = -1.$\n",
    "$C_{2,2} = (+1)\\cdot (-1) = -1.$\n",
    "\n",
    "Minor $M_{2,3}$: remove row 2, col 3\n",
    "$\\begin{vmatrix} 2 & 0 \\\\ 1 & 2 \\end{vmatrix} = 2\\cdot 2 - 0\\cdot 1 = 4.$\n",
    "$C_{2,3} = (-1)\\cdot 4 = -4.$\n",
    "\n",
    "Minor $M_{3,1}$: remove row 3, col 1\n",
    "$\\begin{vmatrix} 0 & 1 \\\\ 1 & 0 \\end{vmatrix} = 0\\cdot 0 - 1\\cdot 1 = -1.$\n",
    "$C_{3,1} = (+1)\\cdot (-1) = -1.$\n",
    "\n",
    "Minor $M_{3,2}$: remove row 3, col 2\n",
    "$\\begin{vmatrix} 2 & 1 \\\\ 0 & 0 \\end{vmatrix} = 2\\cdot 0 - 1\\cdot 0 = 0.$\n",
    "$C_{3,2} = (-1)\\cdot 0 = 0.$\n",
    "\n",
    "Minor $M_{3,3}$: remove row 3, col 3\n",
    "$\\begin{vmatrix} 2 & 0 \\\\ 0 & 1 \\end{vmatrix} = 2\\cdot 1 - 0\\cdot 0 = 2.$\n",
    "$C_{3,3} = (+1)\\cdot 2 = 2.$\n",
    "\n",
    "Hence, the cofactor matrix $C$ is\n",
    "\n",
    "$C = \\begin{pmatrix}\n",
    "0 & 0 & -1 \\\\\n",
    "2 & -1 & -4 \\\\\n",
    "-1 & 0 & 2\n",
    "\\end{pmatrix}.$\n",
    "\n",
    "2.2. Adjugate matrix\n",
    "\n",
    "$\\mathrm{adj}(A) = C^\\mathsf{T} = \\begin{pmatrix}\n",
    "0 & 2 & -1 \\\\\n",
    "0 & -1 & 0 \\\\\n",
    "-1 & -4 & 2\n",
    "\\end{pmatrix}.$\n",
    "\n",
    "3. Compute $A^{-1}$\n",
    "\n",
    "Since $\\det(A) = -1$, we have\n",
    "\n",
    "$A^{-1} = \\frac{1}{\\det(A)} \\,\\mathrm{adj}(A) = \\frac{1}{-1} \\,\\mathrm{adj}(A) = -\\,\\mathrm{adj}(A).$\n",
    "\n",
    "Multiplying each entry of $\\mathrm{adj}(A)$ by $-1$ gives\n",
    "\n",
    "$A^{-1} = \\begin{pmatrix}\n",
    "0 & -2 & 1 \\\\\n",
    "0 & 1 & 0 \\\\\n",
    "1 & 4 & -2\n",
    "\\end{pmatrix}.$\n",
    "\n",
    "4. Verification\n",
    "\n",
    "To verify, we check $A \\cdot A^{-1} = I$. Let’s multiply:\n",
    "\n",
    "$A \\cdot A^{-1} = \\begin{pmatrix} 2 & 0 & 1 \\\\ 0 & 1 & 0 \\\\ 1 & 2 & 0 \\end{pmatrix} \\begin{pmatrix} 0 & -2 & 1 \\\\ 0 & 1 & 0 \\\\ 1 & 4 & -2 \\end{pmatrix}.$\n",
    "\n",
    "Row 1 × Column 1: $2\\cdot0 + 0\\cdot0 + 1\\cdot1 = 1$\n",
    "\n",
    "Row 1 × Column 2: $2\\cdot(-2) + 0\\cdot1 + 1\\cdot4 = -4 + 4 = 0$\n",
    "\n",
    "Row 1 × Column 3: $2\\cdot1 + 0\\cdot0 + 1\\cdot(-2) = 2 - 2 = 0$\n",
    "\n",
    "Row 2 × Column 1: $0\\cdot0 + 1\\cdot0 + 0\\cdot1 = 0$\n",
    "\n",
    "Row 2 × Column 2: $0\\cdot(-2) + 1\\cdot1 + 0\\cdot4 = 1$\n",
    "\n",
    "Row 2 × Column 3: $0\\cdot1 + 1\\cdot0 + 0\\cdot(-2) = 0$\n",
    "\n",
    "Row 3 × Column 1: $1\\cdot0 + 2\\cdot0 + 0\\cdot1 = 0$\n",
    "\n",
    "Row 3 × Column 2: $1\\cdot(-2) + 2\\cdot1 + 0\\cdot4 = -2 + 2 = 0$\n",
    "\n",
    "Row 3 × Column 3: $1\\cdot1 + 2\\cdot0 + 0\\cdot(-2) = 1$\n",
    "\n",
    "Hence,\n",
    "\n",
    "$A \\,A^{-1} = \\begin{pmatrix}\n",
    "1 & 0 & 0 \\\\\n",
    "0 & 1 & 0 \\\\\n",
    "0 & 0 & 1\n",
    "\\end{pmatrix} = I.$\n",
    "\n",
    "This confirms the correctness of $A^{-1}$.\n",
    "\n",
    "\n",
    "\n",
    "<h3><b> SOLUTION 2 </b></h3>\n",
    "\n",
    "To determine the rank of the 3×3 matrix\n",
    "\n",
    "$B = \\begin{pmatrix}\n",
    "4 & -3 & 7 \\\\\n",
    "-1 & 6 & 3 \\\\\n",
    "2 & 9 & 1\n",
    "\\end{pmatrix},$\n",
    "\n",
    "we can check its determinant. If the determinant is nonzero, the matrix is invertible and hence has rank 3.\n",
    "\n",
    "Step-by-step determinant calculation\n",
    "\n",
    "Using cofactor expansion along the first row:\n",
    "\n",
    "$\\det(B) = 4 \\cdot \\begin{vmatrix}\n",
    "6 & 3 \\\\\n",
    "9 & 1\n",
    "\\end{vmatrix} - (-3)\\cdot \\begin{vmatrix}\n",
    "-1 & 3 \\\\\n",
    "2 & 1\n",
    "\\end{vmatrix} + 7 \\cdot \\begin{vmatrix}\n",
    "-1 & 6 \\\\\n",
    "2 & 9\n",
    "\\end{vmatrix}.$\n",
    "\n",
    "First minor (remove row 1, column 1):\n",
    "\n",
    "$\\begin{vmatrix}\n",
    "6 & 3 \\\\\n",
    "9 & 1\n",
    "\\end{vmatrix} = 6 \\cdot 1 - 3 \\cdot 9 = 6 - 27 = -21.$\n",
    "\n",
    "Contribution to determinant: $4 \\times (-21) = -84.$\n",
    "\n",
    "Second minor (remove row 1, column 2):\n",
    "\n",
    "$\\begin{vmatrix}\n",
    "-1 & 3 \\\\\n",
    "2 & 1\n",
    "\\end{vmatrix} = (-1) \\cdot 1 - 3 \\cdot 2 = -1 - 6 = -7.$\n",
    "\n",
    "Contribution to determinant: $-(-3) \\times (-7) = -21.$\n",
    "\n",
    "Third minor (remove row 1, column 3):\n",
    "\n",
    "$\\begin{vmatrix}\n",
    "-1 & 6 \\\\\n",
    "2 & 9\n",
    "\\end{vmatrix} = (-1) \\cdot 9 - 6 \\cdot 2 = -9 - 12 = -21.$\n",
    "\n",
    "Contribution to determinant: $+7 \\times (-21) = -147.$\n",
    "\n",
    "Putting these together:\n",
    "\n",
    "$\\det(B) = -84 - 21 - 147 = -252.$\n",
    "\n",
    "Since $\\det(B) = -252 \\neq 0$, the matrix $B$ is invertible. Therefore,\n",
    "\n",
    "$\\text{rank}(B) = 3.$"
   ]
  },
  {
   "cell_type": "code",
   "execution_count": null,
   "metadata": {},
   "outputs": [],
   "source": [
    "#Question - 2\n",
    "from sympy import Matrix, det\n",
    "\n",
    "A = Matrix([[4, -3, 7], [-1, 6, 3], [2, 9, 1]])\n",
    "\n",
    "det_A = A.det()\n",
    "\n",
    "if det_A != 0:\n",
    "    print(\"The matrix A is full rank.\")\n",
    "    print(\"Rank of A:\", A.rank())\n",
    "else:\n",
    "    print(\"The matrix A is not full rank.\")\n",
    "\n",
    "# The matrix A is full rank.\n",
    "# Rank of A: 3"
   ]
  }
 ],
 "metadata": {
  "kernelspec": {
   "display_name": "Python 3",
   "language": "python",
   "name": "python3"
  },
  "language_info": {
   "codemirror_mode": {
    "name": "ipython",
    "version": 3
   },
   "file_extension": ".py",
   "mimetype": "text/x-python",
   "name": "python",
   "nbconvert_exporter": "python",
   "pygments_lexer": "ipython3",
   "version": "3.11.9"
  }
 },
 "nbformat": 4,
 "nbformat_minor": 4
}
