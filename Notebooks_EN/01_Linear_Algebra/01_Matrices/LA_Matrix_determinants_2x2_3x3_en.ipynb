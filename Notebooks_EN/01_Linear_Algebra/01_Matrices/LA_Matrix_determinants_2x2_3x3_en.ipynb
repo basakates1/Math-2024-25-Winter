{
 "cells": [
  {
   "cell_type": "markdown",
   "metadata": {},
   "source": [
    "# Determinants of 2x2 and 3x3 matrices\n",
    "\n",
    "### Determinant of a 2x2 Matrix\n",
    "\n",
    "The general formula for the determinant of a 2x2 matrix, where the matrix looks as follows:\n",
    "\n",
    "$$\n",
    "\\mathbf{A} =\n",
    "\\begin{pmatrix}\n",
    "a_{11} & a_{12} \\\\\n",
    "a_{21} & a_{22}\n",
    "\\end{pmatrix}\n",
    "$$\n",
    "\n",
    "The determinant of a 2x2 matrix is calculated using the formula:\n",
    "\n",
    "$$\n",
    "\\text{det}(A) = a_{11} \\cdot a_{22} - a_{12} \\cdot a_{21}\n",
    "$$\n",
    "\n",
    "### Determinant of a 3x3 Matrix\n",
    "\n",
    "The general formula for the determinant of a 3x3 matrix, where the matrix looks as follows:\n",
    "\n",
    "$$\n",
    "\\mathbf{B} =\n",
    "\\begin{pmatrix}\n",
    "a_{11} & a_{12} & a_{13} \\\\\n",
    "a_{21} & a_{22} & a_{23} \\\\\n",
    "a_{31} & a_{32} & a_{33}\n",
    "\\end{pmatrix}\n",
    "$$\n",
    "\n",
    "The determinant of a 3x3 matrix can be calculated using Sarrus' rule or Laplace expansion. Here, we will use Sarrus' rule:\n",
    "\n",
    "$$\n",
    "\\text{det}(B) = a_{11} \\cdot a_{22} \\cdot a_{33} + a_{12} \\cdot a_{23} \\cdot a_{31} + a_{13} \\cdot a_{21} \\cdot a_{32} \n",
    "- a_{13} \\cdot a_{22} \\cdot a_{31} - a_{12} \\cdot a_{21} \\cdot a_{33} - a_{11} \\cdot a_{23} \\cdot a_{32}\n",
    "$$\n",
    "\n",
    "<img src=\"https://upload.wikimedia.org/wikipedia/commons/c/c0/Sarrus_rule1.svg\" alt=\"Image description\" width=\"300\" align=\"center\"/>\n",
    "\n",
    "Note: Sarrus' rule does not work for matrices larger than 3x3.\n",
    "\n",
    "### Calculating Determinants in Python using SymPy\n",
    "\n",
    "Now, using the SymPy library, we will calculate the determinants for 2x2 and 3x3 matrices."
   ]
  },
  {
   "cell_type": "code",
   "execution_count": null,
   "metadata": {},
   "outputs": [
    {
     "data": {
      "text/latex": [
       "$\\displaystyle \\left[\\begin{matrix}2 & 3\\\\1 & 4\\end{matrix}\\right]$"
      ],
      "text/plain": [
       "Matrix([\n",
       "[2, 3],\n",
       "[1, 4]])"
      ]
     },
     "execution_count": 1,
     "metadata": {},
     "output_type": "execute_result"
    }
   ],
   "source": [
    "import sympy as sp\n",
    "\n",
    "# Define the matrix\n",
    "A = sp.Matrix([[2, 3], [1, 4]])\n",
    "A # display the matrix"
   ]
  },
  {
   "cell_type": "code",
   "execution_count": null,
   "metadata": {
    "notebookRunGroups": {
     "groupValue": "2"
    }
   },
   "outputs": [
    {
     "data": {
      "text/plain": [
       "True"
      ]
     },
     "execution_count": 2,
     "metadata": {},
     "output_type": "execute_result"
    }
   ],
   "source": [
    "# Verify the correctness of the calculations\n",
    "(2*4 - 3*1) == A.det()"
   ]
  },
  {
   "cell_type": "code",
   "execution_count": null,
   "metadata": {},
   "outputs": [
    {
     "data": {
      "text/latex": [
       "$\\displaystyle \\left[\\begin{matrix}2 & 3 & 1\\\\1 & 4 & 5\\\\3 & 2 & 1\\end{matrix}\\right]$"
      ],
      "text/plain": [
       "Matrix([\n",
       "[2, 3, 1],\n",
       "[1, 4, 5],\n",
       "[3, 2, 1]])"
      ]
     },
     "execution_count": 3,
     "metadata": {},
     "output_type": "execute_result"
    }
   ],
   "source": [
    "# 3x3 Matrix\n",
    "B = sp.Matrix([[2, 3, 1], [1, 4, 5], [3, 2, 1]])\n",
    "B"
   ]
  },
  {
   "cell_type": "code",
   "execution_count": null,
   "metadata": {},
   "outputs": [
    {
     "data": {
      "text/plain": [
       "True"
      ]
     },
     "execution_count": 4,
     "metadata": {},
     "output_type": "execute_result"
    }
   ],
   "source": [
    "# Verify the correctness of the calculations\n",
    "(2*4*1 + 3*5*3 + 1*1*2 - 1*4*3 - 5*2*2 - 3*1*1) == B.det()"
   ]
  },
  {
   "cell_type": "markdown",
   "metadata": {},
   "source": [
    "---\n",
    "\n",
    "## Exercises for Students\n",
    "\n",
    "Calculate the determinants for the 2x2 and 3x3 matrices given below.\n",
    "\n",
    "1. 2x2 Matrices:\n",
    "\n",
    "$$\n",
    "\\mathbf{A} =\n",
    "\\begin{pmatrix}\n",
    "2 & 3 \\\\\n",
    "1 & 4\n",
    "\\end{pmatrix}\n",
    ", \\qquad\n",
    "\\mathbf{B} =\n",
    "\\begin{pmatrix}\n",
    "5 & 6 \\\\\n",
    "7 & 8\n",
    "\\end{pmatrix}\n",
    ", \\qquad\n",
    "\\mathbf{C} =\n",
    "\\begin{pmatrix}\n",
    "-1 & 2 \\\\\n",
    "3 & 0\n",
    "\\end{pmatrix}\n",
    "$$\n",
    "\n",
    "2. 3x3 Matrices:\n",
    " \n",
    "\n",
    "$$\n",
    "\\mathbf{D} =\n",
    "\\begin{pmatrix}\n",
    "1 & 0 & 2 \\\\\n",
    "-1 & 3 & 1 \\\\\n",
    "2 & 4 & -2\n",
    "\\end{pmatrix}\n",
    ", \\qquad\n",
    "\\mathbf{E} =\n",
    "\\begin{pmatrix}\n",
    "3 & 1 & -1 \\\\\n",
    "0 & 2 & 4 \\\\\n",
    "5 & 3 & 2\n",
    "\\end{pmatrix}\n",
    ", \\qquad\n",
    "\\mathbf{F} =\n",
    "\\begin{pmatrix}\n",
    "2 & -3 & 1 \\\\\n",
    "1 & 4 & -2 \\\\\n",
    "1 & 5 & 3\n",
    "\\end{pmatrix}\n",
    "$$"
   ]
  },
  {
   "cell_type": "markdown",
   "metadata": {},
   "source": [
    "## Answers\n",
    "\n",
    "**1. Calculating Determinants for 2x2 Matrices**\n",
    "\n",
    "For a 2x2 matrix:<br>\n",
    "A = |a b|\n",
    "    |c d| <br>\n",
    "The determinant is calculated as: <br>\n",
    "\n",
    "det(A) = ad - bc <br>\n",
    "Given matrices:\n",
    "\n",
    "A = |2 3|\n",
    "    |1 4|\n",
    "\n",
    "B = |5 6|\n",
    "    |7 8|\n",
    "\n",
    "C = |-1 2|\n",
    "    | 3 0|<br>\n",
    "Calculating determinants:\n",
    "\n",
    "det(A) = (2 * 4) - (3 * 1) = 5 <br>\n",
    "det(B) = (5 * 8) - (6 * 7) = -2 <br>\n",
    "det(C) = (-1 * 0) - (2 * 3) = -6<br>\n",
    "\n",
    "**3x3 Matrices**\n",
    "\n",
    "For a 3x3 matrix: <br>\n",
    "\n",
    "A = \n",
    "| a  b  c |\n",
    "| d  e  f |\n",
    "| g  h  i |\n",
    "<br>\n",
    "The determinant can be calculated using cofactor expansion along any row or column. Here, we'll use the first row:<br>\n",
    "\n",
    "det(A) = a * det( | e  f | ) - b * det( | d  f | ) + c * det( | d  e | )\n",
    "               | h  i |       | g  i |       | g  h |\n",
    "               <br>\n",
    "Given matrices:<br>\n",
    "\n",
    "D = \n",
    "|  1  0  2 |\n",
    "| -1  3  1 |\n",
    "|  2  4 -2 |\n",
    "\n",
    "E = \n",
    "|  3  1 -1 |\n",
    "|  0  2  4 |\n",
    "|  5  3  2 |\n",
    "\n",
    "F = \n",
    "|  2 -3  1 |\n",
    "|  1  4 -2 |\n",
    "|  1  5  3 |\n",
    "<br>\n",
    "Calculating determinants:<br>\n",
    "\n",
    "det(D) = 1 * det( | 3  1 | ) - 0 * det( | -1  1 | ) + 2 * det( | -1  3 | )\n",
    "               | 4 -2 |       |  2 -2 |       |  2  4 |\n",
    "\n",
    "     = 1 * ((3 * -2) - (1 * 4)) + 2 * ((-1 * 4) - (3 * 2)) = -29\n",
    "     <br>\n",
    "\n",
    "det(E) = 6<br>\n",
    "det(F) = 60<br>\n",
    "\n",
    "\n"
   ]
  },
  {
   "cell_type": "code",
   "execution_count": null,
   "metadata": {},
   "outputs": [],
   "source": [
    "from sympy import Matrix\n",
    "\n",
    "# Define the matrices\n",
    "A = Matrix([[2, 3], [1, 4]])\n",
    "B = Matrix([[5, 6], [7, 8]])\n",
    "C = Matrix([[-1, 2], [3, 0]])\n",
    "\n",
    "# Calculate the determinants\n",
    "det_A = A.det()\n",
    "det_B = B.det()\n",
    "det_C = C.det()\n",
    "\n",
    "print(\"det(A) =\", det_A)\n",
    "print(\"det(B) =\", det_B)\n",
    "print(\"det(C) =\", det_C)"
   ]
  }
 ],
 "metadata": {
  "kernelspec": {
   "display_name": "Python 3",
   "language": "python",
   "name": "python3"
  },
  "language_info": {
   "codemirror_mode": {
    "name": "ipython",
    "version": 3
   },
   "file_extension": ".py",
   "mimetype": "text/x-python",
   "name": "python",
   "nbconvert_exporter": "python",
   "pygments_lexer": "ipython3",
   "version": "3.11.9"
  }
 },
 "nbformat": 4,
 "nbformat_minor": 4
}
