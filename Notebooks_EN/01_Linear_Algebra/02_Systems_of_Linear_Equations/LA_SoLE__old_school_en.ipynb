{
 "cells": [
  {
   "cell_type": "markdown",
   "metadata": {},
   "source": [
    "# School Method for Solving Systems of Linear Equations"
   ]
  },
  {
   "cell_type": "code",
   "execution_count": 1,
   "metadata": {},
   "outputs": [],
   "source": [
    "import sympy as sp\n",
    "from sympy import symbols, Eq, expand, solve\n",
    "\n",
    "class EnhancedEq(Eq):\n",
    "    def __add__(self, other):\n",
    "        return EnhancedEq(self.lhs + other.lhs, self.rhs + other.rhs)\n",
    "\n",
    "    def __sub__(self, other):\n",
    "        return EnhancedEq(self.lhs - other.lhs, self.rhs - other.rhs)\n",
    "\n",
    "    def __mul__(self, scalar):\n",
    "        return EnhancedEq(scalar * self.lhs, scalar * self.rhs)\n",
    "\n",
    "    def __rmul__(self, scalar):\n",
    "        return self.__mul__(scalar)\n",
    "\n",
    "    def simplify(self):\n",
    "        return EnhancedEq(expand(self.lhs), expand(self.rhs))\n",
    "\n",
    "    def substitute(self, *args, **kwargs):\n",
    "        return EnhancedEq(self.lhs.subs(*args, **kwargs), self.rhs.subs(*args, **kwargs))\n",
    "\n",
    "    def solve_for(self, symbol):\n",
    "        return solve(self, symbol)\n",
    "\n",
    "# Example usage:\n",
    "x, y = symbols('x y')\n",
    "\n",
    "# Define equations\n",
    "eq1 = EnhancedEq(2*x + y, 5)\n",
    "eq2 = EnhancedEq(x - y, 1)"
   ]
  },
  {
   "cell_type": "code",
   "execution_count": 2,
   "metadata": {},
   "outputs": [
    {
     "name": "stdout",
     "output_type": "stream",
     "text": [
      "First equation:\n"
     ]
    },
    {
     "data": {
      "text/latex": [
       "$\\displaystyle 2 x + y = 5$"
      ],
      "text/plain": [
       "Eq(2*x + y, 5)"
      ]
     },
     "execution_count": 2,
     "metadata": {},
     "output_type": "execute_result"
    }
   ],
   "source": [
    "print(\"First equation:\")\n",
    "eq1"
   ]
  },
  {
   "cell_type": "code",
   "execution_count": 3,
   "metadata": {},
   "outputs": [
    {
     "name": "stdout",
     "output_type": "stream",
     "text": [
      "Second equation:\n"
     ]
    },
    {
     "data": {
      "text/latex": [
       "$\\displaystyle x - y = 1$"
      ],
      "text/plain": [
       "Eq(x - y, 1)"
      ]
     },
     "execution_count": 3,
     "metadata": {},
     "output_type": "execute_result"
    }
   ],
   "source": [
    "print(\"Second equation:\")\n",
    "eq2"
   ]
  },
  {
   "cell_type": "code",
   "execution_count": 4,
   "metadata": {},
   "outputs": [
    {
     "data": {
      "text/latex": [
       "$\\displaystyle 3 x = 6$"
      ],
      "text/plain": [
       "Eq(3*x, 6)"
      ]
     },
     "execution_count": 4,
     "metadata": {},
     "output_type": "execute_result"
    }
   ],
   "source": [
    "# Add the equations\n",
    "eq3 = eq1 + eq2\n",
    "eq3"
   ]
  },
  {
   "cell_type": "code",
   "execution_count": 5,
   "metadata": {},
   "outputs": [
    {
     "data": {
      "text/latex": [
       "$\\displaystyle 2$"
      ],
      "text/plain": [
       "2"
      ]
     },
     "execution_count": 5,
     "metadata": {},
     "output_type": "execute_result"
    }
   ],
   "source": [
    "# We have an equation with one unknown, so we can solve it\n",
    "sol_x = eq3.solve_for(x)[0]\n",
    "sol_x"
   ]
  },
  {
   "cell_type": "code",
   "execution_count": 6,
   "metadata": {},
   "outputs": [
    {
     "data": {
      "text/latex": [
       "$\\displaystyle 2 - y = 1$"
      ],
      "text/plain": [
       "Eq(2 - y, 1)"
      ]
     },
     "execution_count": 6,
     "metadata": {},
     "output_type": "execute_result"
    }
   ],
   "source": [
    "# Substitute the solution into equation 2\n",
    "eq2 = eq2.substitute(x, sol_x)\n",
    "eq2"
   ]
  },
  {
   "cell_type": "code",
   "execution_count": 7,
   "metadata": {},
   "outputs": [
    {
     "data": {
      "text/latex": [
       "$\\displaystyle 1$"
      ],
      "text/plain": [
       "1"
      ]
     },
     "execution_count": 7,
     "metadata": {},
     "output_type": "execute_result"
    }
   ],
   "source": [
    "# We get an equation with one unknown, so we can solve it\n",
    "eq2.solve_for(y)[0]"
   ]
  },
  {
   "cell_type": "code",
   "execution_count": 8,
   "metadata": {},
   "outputs": [
    {
     "data": {
      "text/plain": [
       "{x: 2, y: 1}"
      ]
     },
     "execution_count": 8,
     "metadata": {},
     "output_type": "execute_result"
    }
   ],
   "source": [
    "# Thus x=2, y=1\n",
    "# Verify with sympy\n",
    "sp.solve([eq1, eq2])"
   ]
  },
  {
   "cell_type": "markdown",
   "metadata": {},
   "source": [
    "---\n",
    "\n",
    "### Exercises for Students\n",
    "\n",
    "Solve the following systems of equations similarly to the example above:\n",
    "\n",
    "* $3x-2y=5, \\quad 2x+3y=7$,\n",
    "* $2x-3y=10, \\quad 4x+5y=20$,\n",
    "* $2x - y + z = 3, \\quad x + 2y - z = 1, \\quad 3x - y + 2z = 11$.\n",
    "* $2x-3y+4z+2t=2, \\quad 3x+2y-5z+3t=3, \\quad 4x-3y+2z-5t=4, \\quad 5x+4y-3z+2t=5$."
   ]
  },
  {
   "cell_type": "markdown",
   "metadata": {},
   "source": [
    "<h2> SOLUTION </h2>\n",
    "\n",
    "Here are the solutions to the given systems of equations:\n",
    "\n",
    "### System 1\n",
    "$$\n",
    "\\begin{aligned}\n",
    "3x - 2y &= 5, \\\n",
    "2x + 3y &= 7.\n",
    "\\end{aligned}\n",
    "$$\n",
    "\n",
    "Solution:  \n",
    "$$\n",
    "x = \\frac{29}{13},  y = \\frac{11}{13}.\n",
    "$$\n",
    "\n",
    "---\n",
    "\n",
    "### System 2\n",
    "$$\n",
    "\\begin{aligned}\n",
    "2x - 3y &= 10, \\\n",
    "4x + 5y &= 20.\n",
    "\\end{aligned}\n",
    "$$\n",
    "\n",
    "Solution:  \n",
    "$$\n",
    "x = 5,  y = 0.\n",
    "$$\n",
    "\n",
    "---\n",
    "\n",
    "### System 3\n",
    "$$\n",
    "\\begin{aligned}\n",
    "2x - y + z &= 3, \\\n",
    "x + 2y - z &= 1, \\\n",
    "3x - y + 2z &= 11.\n",
    "\\end{aligned}\n",
    "$$\n",
    "\n",
    "Solution:  \n",
    "$$\n",
    "x = -\\frac{1}{4},  y = \\frac{19}{4},  z = \\frac{33}{4}.\n",
    "$$\n",
    "\n",
    "---\n",
    "\n",
    "### System 4\n",
    "$$\n",
    "\\begin{aligned}\n",
    "2x - 3y + 4z + 2t &= 2, \\\n",
    "3x + 2y - 5z + 3t &= 3, \\\n",
    "4x - 3y + 2z - 5t &= 4, \\\n",
    "5x + 4y - 3z + 2t &= 5.\n",
    "\\end{aligned}\n",
    "$$\n",
    "\n",
    "Solution:  \n",
    "$$\n",
    "x = 1,  y = 0,  z = 0,  t = 0.\n",
    "$$\n",
    "\n"
   ]
  }
 ],
 "metadata": {
  "kernelspec": {
   "display_name": "Python 3",
   "language": "python",
   "name": "python3"
  },
  "language_info": {
   "codemirror_mode": {
    "name": "ipython",
    "version": 3
   },
   "file_extension": ".py",
   "mimetype": "text/x-python",
   "name": "python",
   "nbconvert_exporter": "python",
   "pygments_lexer": "ipython3",
   "version": "3.11.9"
  }
 },
 "nbformat": 4,
 "nbformat_minor": 4
}
