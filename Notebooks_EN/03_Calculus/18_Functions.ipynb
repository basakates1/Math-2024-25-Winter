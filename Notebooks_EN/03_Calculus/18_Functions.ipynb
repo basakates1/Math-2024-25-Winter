{
 "cells": [
  {
   "cell_type": "markdown",
   "metadata": {},
   "source": [
    "## 18. Functions\n",
    "\n",
    "1. Draw in a single Geogebra notebook the following functions:\n",
    "   - $f(x) = x^2$\n",
    "   - $g(x) = \\sqrt{x}$\n",
    "   - $h(x) = \\frac{1}{x}$\n",
    "   - $j(x) = \\sin(x)$\n",
    "\n",
    "Find value of all the above functions at $x = 2$.\n",
    "\n",
    "2. Let $f(x) = 3x - 1$ and $g(x) = \\sqrt{x}$. Find:\n",
    "   - $f(g(x))$\n",
    "   - $g(f(x))$\n",
    "   - $f(f(x))$\n",
    "   - $g(g(x))$\n",
    "\n",
    "and visualize functions in a single Geogebra notebook.\n",
    "\n",
    "3. Let $f(x) = e^x$ and $g(x) = \\ln(x)$. Check: $f(g(x))$ and $g(f(x))$. What do you notice?\n",
    "\n",
    "4. We have function $f=\\{(1,7), (2,9), (3,11)\\}$. Give inverse function $f^{-1}$.\n",
    "\n",
    "5. We have function $f=\\{(1,7), (2,7), (3,11)\\}$. Give inverse function $f^{-1}$.\n",
    "\n",
    "6. We have function $f(x)= x-1$. Give inverse function $f^{-1}$. Show both functions on the same Geogebra notebook."
   ]
  },
  {
   "cell_type": "markdown",
   "metadata": {},
   "source": [
    "<h2> SOLUTIONS </h2>\n",
    "<hr>\n",
    "\n",
    "# Solution 1\n",
    "\n",
    "[![Solution 1 with GeoGebra](https://i.postimg.cc/cJprSzXF/1.png)](https://postimg.cc/gwKYyg9h)\n",
    "\n",
    "# Solution 2"
   ]
  }
 ],
 "metadata": {
  "language_info": {
   "name": "python"
  }
 },
 "nbformat": 4,
 "nbformat_minor": 2
}
