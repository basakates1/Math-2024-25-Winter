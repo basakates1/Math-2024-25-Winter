{
 "cells": [
  {
   "cell_type": "markdown",
   "metadata": {},
   "source": [
    "<h2><b>SOLUTIONS</b></h2>\n",
    "<hr/>\n",
    "\n",
    "<h4><b>Solution 1:</b></h4>\n",
    "\n",
    "To write the equation of a sphere, you can use the standard formula for a sphere in three-dimensional space centered at point $P(x_0, y_0, z_0)$\n",
    "\n",
    "$P(x_0, y_0, z_0)$ with radius $r$:\n",
    "\n",
    "$$(x - x_0)^2 + (y - y_0)^2 + (z - z_0)^2 = r^2$$\n",
    "\n",
    "For the sphere with center at $P = (1, 2, 3)$\n",
    "\n",
    "$P=(1,2,3)$ and radius $r = 3$\n",
    "\n",
    "$r=3$, you substitute the values into the formula:\n",
    "\n",
    "$$(x - 1)^2 + (y - 2)^2 + (z - 3)^2 = 3^2$$\n",
    "\n",
    "Thus, the equation of the sphere is:\n",
    "\n",
    "$$(x - 1)^2 + (y - 2)^2 + (z - 3)^2 = 9$$\n",
    "\n",
    "[![Solution 1](https://i.postimg.cc/d1VbZTsC/1.png)](https://postimg.cc/06hWLjJ5)"
   ]
  },
  {
   "cell_type": "markdown",
   "metadata": {},
   "source": [
    "<h4><b>Solution 2:</b></h4>\n",
    "\n",
    "The spheres described by the equations $x^2 + y^2 + z^2 = 1$ and $x^2 + y^2 + z^2 = 2$ represent two spheres in 3D space centered at the origin. The first sphere has a radius of 1, and the second sphere has a radius of 2.\n",
    "\n",
    "Since both spheres are centered at the same point (the origin) and have different radii, there will be no points where both spheres intersect. Each point on the surface of a sphere satisfies the equation of that sphere based on its radius from the center, meaning a point that lies exactly on the surface of one sphere with a certain radius cannot simultaneously lie on the surface of another sphere with a different radius, if both are centered at the same point.\n",
    "\n",
    "[![Solution 2](https://i.postimg.cc/3rXKM2y8/output-21.png)](https://postimg.cc/Rq0rK6Qy)"
   ]
  },
  {
   "cell_type": "code",
   "execution_count": null,
   "metadata": {
    "vscode": {
     "languageId": "plaintext"
    }
   },
   "outputs": [],
   "source": [
    "##SOLUTION 2 CODE\n",
    "\n",
    "import matplotlib.pyplot as plt\n",
    "from mpl_toolkits.mplot3d import Axes3D\n",
    "import numpy as np\n",
    "\n",
    "# Create a 3D plot\n",
    "fig = plt.figure()\n",
    "ax = fig.add_subplot(111, projection='3d')\n",
    "\n",
    "# Define number of points\n",
    "num_points = 100\n",
    "\n",
    "# Create a sphere\n",
    "u = np.linspace(0, 2 * np.pi, num_points)\n",
    "v = np.linspace(0, np.pi, num_points)\n",
    "x1 = np.outer(np.cos(u), np.sin(v))\n",
    "y1 = np.outer(np.sin(u), np.sin(v))\n",
    "z1 = np.outer(np.ones(np.size(u)), np.cos(v))\n",
    "\n",
    "x2 = 2 * x1\n",
    "y2 = 2 * y1\n",
    "z2 = 2 * z1\n",
    "\n",
    "# Plot the first sphere\n",
    "ax.plot_surface(x1, y1, z1, color='b', alpha=0.6, label=\"Radius 1\")\n",
    "# Plot the second sphere\n",
    "ax.plot_surface(x2, y2, z2, color='r', alpha=0.6, label=\"Radius 2\")\n",
    "\n",
    "# Labels and title\n",
    "ax.set_xlabel('X axis')\n",
    "ax.set_ylabel('Y axis')\n",
    "ax.set_zlabel('Z axis')\n",
    "ax.set_title('Visualization of the Spheres')\n",
    "\n",
    "plt.show()\n"
   ]
  },
  {
   "cell_type": "markdown",
   "metadata": {},
   "source": [
    "<h4><b>Solution 3:</b></h4>\n",
    "\n",
    "To find the curve formed by the intersection of the two spheres given by the equations:\n",
    "\n",
    "$x^2 + y^2 + z^2 = 1$\n",
    "\n",
    "$(x-1)^2 + y^2 + z^2 = 1$\n",
    "\n",
    "First, we can simplify the second equation. Expanding the term $(x-1)^2$, we get:\n",
    "\n",
    "$(x-1)^2 + y^2 + z^2 = x^2 - 2x + 1 + y^2 + z^2 = 1$\n",
    "\n",
    "Thus:\n",
    "\n",
    "$x^2 + y^2 + z^2 - 2x + 1 = 1 \\implies x^2 + y^2 + z^2 - 2x = 0$\n",
    "\n",
    "We know from the first equation that $x^2 + y^2 + z^2 = 1$. \n",
    "\n",
    "Substituting this into the modified equation, we get:\n",
    "\n",
    "$1 - 2x = 0 \\implies x = \\frac{1}{2}$\n",
    "\n",
    "When substituting $x = \\frac{1}{2}$ back into the equation $x^2 + y^2 + z^2 = 1$:\n",
    "\n",
    "$(\\frac{1}{2})^2 + y^2 + z^2 = 1 \\implies \\frac{1}{4} + y^2 + z^2 = 1 \\implies y^2 + z^2 = \\frac{3}{4}$\n",
    "\n",
    "This equation represents a circle in the $yz$-plane centered at the origin with radius $\\frac{\\sqrt{3}}{2}$.\n",
    "\n",
    "[![Solution 3](https://i.postimg.cc/pddTRChb/output-22.png)](https://postimg.cc/xXWYPK3t)"
   ]
  },
  {
   "cell_type": "code",
   "execution_count": null,
   "metadata": {
    "vscode": {
     "languageId": "plaintext"
    }
   },
   "outputs": [],
   "source": [
    "# SOLUTION 3\n",
    "\n",
    "# Initialize the plot\n",
    "fig = plt.figure(figsize=(10, 8))\n",
    "ax = fig.add_subplot(111, projection='3d')\n",
    "\n",
    "# Plot the first sphere\n",
    "ax.plot_surface(x1, y1, z1, color='b', alpha=0.3)\n",
    "\n",
    "# Plot the second sphere\n",
    "ax.plot_surface(x2, y2, z2, color='r', alpha=0.3)\n",
    "\n",
    "# Plot the intersection (corrected)\n",
    "ax.plot(x, y, z, color='g', linewidth=2)\n",
    "\n",
    "# Labels\n",
    "ax.set_xlabel('X axis')\n",
    "ax.set_ylabel('Y axis')\n",
    "ax.set_zlabel('Z axis')\n",
    "\n",
    "# Display the plot\n",
    "plt.show()\n"
   ]
  },
  {
   "cell_type": "markdown",
   "metadata": {},
   "source": [
    "<h4><b>Solution 4:</b></h4>\n",
    "\n",
    "To find the equation of the tangent plane to the paraboloid at the point $P = (1, 0, 1)$, we first need to determine the partial derivatives of the function defining the paraboloid at that point.\n",
    "\n",
    "***Step 1***: Define the Function\n",
    "The function given is $z = (x-1)^2 + y^2 + 1$. We need to find the partial derivatives $\\frac{\\partial z}{\\partial x}$ and $\\frac{\\partial z}{\\partial y}$.\n",
    "\n",
    "***Step 2***: Calculate Partial Derivatives\n",
    "Partial derivative with respect to $x$: $\\frac{\\partial z}{\\partial x} = 2(x-1)$\n",
    "Partial derivative with respect to $y$: $\\frac{\\partial z}{\\partial y} = 2y$\n",
    "\n",
    "***Step 3***: Evaluate the Partial Derivatives at Point $P = (1, 0, 1)$\n",
    "$\\frac{\\partial z}{\\partial x}(1, 0) = 2(1-1) = 0$\n",
    "$\\frac{\\partial z}{\\partial y}(1, 0) = 2 \\times 0 = 0$\n",
    "\n",
    "***Step 4***: Equation of the Tangent Plane\n",
    "The equation of the tangent plane to the surface $z = f(x, y)$ at a point $(x_0, y_0, z_0)$ is:\n",
    "\n",
    "$z - z_0 = \\frac{\\partial z}{\\partial x}(x_0, y_0) \\cdot (x - x_0) + \\frac{\\partial z}{\\partial y}(x_0, y_0) \\cdot (y - y_0)$\n",
    "\n",
    "Substituting the values:\n",
    "\n",
    "$z - 1 = 0 \\cdot (x - 1) + 0 \\cdot (y - 0)$\n",
    "$z = 1$\n",
    "\n",
    "So the equation of the tangent plane at the point $P = (1, 0, 1)$ on the paraboloid is simply $z = 1$.\n",
    "\n",
    "[![Solution 4](https://i.postimg.cc/kGzdWNwZ/4.png)](https://postimg.cc/Zv8gSdGF)"
   ]
  }
 ],
 "metadata": {
  "language_info": {
   "name": "python"
  }
 },
 "nbformat": 4,
 "nbformat_minor": 2
}
